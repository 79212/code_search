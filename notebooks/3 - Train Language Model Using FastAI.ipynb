{
 "cells": [
  {
   "cell_type": "markdown",
   "metadata": {},
   "source": [
    "This notebook was run on AWS on a `p3.2xlarge` in approximately 15 hours.\n",
    "\n",
    "Environment is available as a publically available docker container: `hamelsmu/ml-gpu`"
   ]
  },
  {
   "cell_type": "markdown",
   "metadata": {},
   "source": [
    "# Build Language Model From Docstrings\n",
    "\n",
    "The goal is to build a language model using the docstrings, and use that language model to generate an embedding for each docstring.  "
   ]
  },
  {
   "cell_type": "code",
   "execution_count": 3,
   "metadata": {},
   "outputs": [],
   "source": [
    "from lang_model_utils import preprocess_lm_data"
   ]
  },
  {
   "cell_type": "markdown",
   "metadata": {},
   "source": [
    "## Pre-process data for language model\n",
    "\n",
    "We will use the helper function `preprocess_lm_data` to prepare our data for the language model"
   ]
  },
  {
   "cell_type": "code",
   "execution_count": 4,
   "metadata": {},
   "outputs": [],
   "source": [
    "source_path = '/ds/hamel/code_search_data'\n",
    "dest_path = '/ds/hamel/code_search_data/outputs'"
   ]
  },
  {
   "cell_type": "code",
   "execution_count": 6,
   "metadata": {},
   "outputs": [
    {
     "name": "stderr",
     "output_type": "stream",
     "text": [
      "WARNING:root:Training file has 4,777,470 rows\n",
      "WARNING:root:Validation file has 201,155 rows\n",
      "WARNING:root:Vocab Size 49,809\n"
     ]
    }
   ],
   "source": [
    "preprocess_lm_data(read_data_path=source_path,\n",
    "                   save_data_path=dest_path,\n",
    "                   train_file='train.docstring',\n",
    "                   validation_file='valid.docstring',\n",
    "                   max_vocab=50000,\n",
    "                   min_freq=15\n",
    "                  )"
   ]
  },
  {
   "cell_type": "markdown",
   "metadata": {},
   "source": [
    "`preprocess_lm_data` saves four files to the `save_data_path`:\n",
    "\n",
    "\n",
    "1. `itos_dict.pkl`  this a dict that maps integer indices to a string.\n",
    "2. `stoi_dict.pkl`  this is a defaultdict which maps strings to integer indices, with default value of zero.\n",
    "3. `trn_indexed.npy` a numpy array that is the indexed version of the training data.\n",
    "4. `val_indexed.npy` a numpy array that is the indexed version of the validation data.\n"
   ]
  },
  {
   "cell_type": "code",
   "execution_count": 13,
   "metadata": {},
   "outputs": [
    {
     "name": "stdout",
     "output_type": "stream",
     "text": [
      "total 538M\r\n",
      "drwxr-xr-x 2 root root 6.0K May 14 23:25 .\r\n",
      "drwxr-xr-x 4 root root 6.0K May 14 23:25 ..\r\n",
      "-rw-r--r-- 1 root root 910K May 14 23:25 itos_dict.pkl\r\n",
      "-rw-r--r-- 1 root root 910K May 14 23:25 stoi_dict.pkl\r\n",
      "-rw-r--r-- 1 root root 514M May 14 23:25 trn_indexed.npy\r\n",
      "-rw-r--r-- 1 root root  22M May 14 23:25 val_indexed.npy\r\n"
     ]
    }
   ],
   "source": [
    "!ls -lah {dest_path}"
   ]
  },
  {
   "cell_type": "markdown",
   "metadata": {},
   "source": [
    "## Train Fast.AI Language Model\n",
    "\n",
    "This model will read in files that were created and train a [fast.ai](https://github.com/fastai/fastai/tree/master/fastai) language model.  This model learns to predict the next word in the sentence using fast.ai's implementation of [AWD LSTM](https://github.com/salesforce/awd-lstm-lm).  \n",
    "\n",
    "The goal of training this model is to build a general purpose feature extractor for text that can be used in downstream models.  In this case, we will utilize this model to produce embeddings for function docstrings."
   ]
  },
  {
   "cell_type": "code",
   "execution_count": 1,
   "metadata": {},
   "outputs": [],
   "source": [
    "from lang_model_utils import train_lang_model"
   ]
  },
  {
   "cell_type": "code",
   "execution_count": null,
   "metadata": {},
   "outputs": [
    {
     "data": {
      "application/vnd.jupyter.widget-view+json": {
       "model_id": "32ff1d7f05e242dc984fea489b5214f8",
       "version_major": 2,
       "version_minor": 0
      },
      "text/plain": [
       "HBox(children=(IntProgress(value=0, description='Epoch', max=6), HTML(value='')))"
      ]
     },
     "metadata": {},
     "output_type": "display_data"
    },
    {
     "name": "stdout",
     "output_type": "stream",
     "text": [
      "epoch      trn_loss   val_loss                                      \n",
      "    0      3.89538    3.692201  \n",
      " 86%|████████▌ | 90702/105245 [1:17:20<12:23, 19.55it/s, loss=3.71]"
     ]
    }
   ],
   "source": [
    "fastai_learner, lm_model = train_lang_model(model_path='/ds/hamel/code_search_data/outputs/lm_model',\n",
    "                                            data_path='/ds/hamel/code_search_data/outputs')"
   ]
  },
  {
   "cell_type": "code",
   "execution_count": null,
   "metadata": {},
   "outputs": [],
   "source": []
  }
 ],
 "metadata": {
  "kernelspec": {
   "display_name": "Python 3",
   "language": "python",
   "name": "python3"
  },
  "language_info": {
   "codemirror_mode": {
    "name": "ipython",
    "version": 3
   },
   "file_extension": ".py",
   "mimetype": "text/x-python",
   "name": "python",
   "nbconvert_exporter": "python",
   "pygments_lexer": "ipython3",
   "version": "3.6.3"
  }
 },
 "nbformat": 4,
 "nbformat_minor": 2
}

{
 "cells": [
  {
   "cell_type": "markdown",
   "metadata": {},
   "source": [
    "This notebook was run on AWS on a `p3.2xlarge` in approximately 15 hours.\n",
    "\n",
    "Environment is available as a publically available docker container: `hamelsmu/ml-gpu`"
   ]
  },
  {
   "cell_type": "markdown",
   "metadata": {},
   "source": [
    "# Build Language Model From Docstrings\n",
    "\n",
    "The goal is to build a language model using the docstrings, and use that language model to generate an embedding for each docstring.  "
   ]
  },
  {
   "cell_type": "code",
   "execution_count": 1,
   "metadata": {},
   "outputs": [
    {
     "name": "stderr",
     "output_type": "stream",
     "text": [
      "/opt/conda/lib/python3.6/site-packages/h5py/__init__.py:36: FutureWarning: Conversion of the second argument of issubdtype from `float` to `np.floating` is deprecated. In future, it will be treated as `np.float64 == np.dtype(float).type`.\n",
      "  from ._conv import register_converters as _register_converters\n",
      "Using TensorFlow backend.\n"
     ]
    }
   ],
   "source": [
    "from lang_model_utils import lm_vocab, load_lm_vocab, get_emb_batch\n",
    "from general_utils import save_file_pickle, load_file_pickle\n",
    "from pathlib import Path\n",
    "from fastai.text import *\n",
    "import torch\n",
    "\n",
    "source_path = Path('/ds/hamel/code_search_data')\n",
    "\n",
    "with open(source_path/'train.docstring', 'r') as f:\n",
    "    trn_raw = f.readlines()\n",
    "\n",
    "with open(source_path/'valid.docstring', 'r') as f:\n",
    "    val_raw = f.readlines()"
   ]
  },
  {
   "cell_type": "code",
   "execution_count": 2,
   "metadata": {},
   "outputs": [
    {
     "data": {
      "text/plain": [
       "['render this object as a dict of its fields .\\n',\n",
       " \"unset fields so they do n't appear in the message body .\\n\",\n",
       " 'runs the daily searcher , queuing selected episodes for search\\n',\n",
       " 'read data from an h5 file in sxs format\\n',\n",
       " 'output the waveform in nrar format .\\n',\n",
       " 'remove the left - whitespace margin of a block of python code .\\n',\n",
       " 'print a line or lines of python which already contain indentation .\\n',\n",
       " 'print a series of lines of python .\\n',\n",
       " 'print a line of python , indenting it according to the current indent level .\\n',\n",
       " 'close this printer , flushing any remaining lines .\\n']"
      ]
     },
     "execution_count": 2,
     "metadata": {},
     "output_type": "execute_result"
    }
   ],
   "source": [
    "trn_raw[:10]"
   ]
  },
  {
   "cell_type": "markdown",
   "metadata": {},
   "source": [
    "## Pre-process data for language model\n",
    "\n",
    "We will use the class  `build_lm_vocab` to prepare our data for the language model"
   ]
  },
  {
   "cell_type": "code",
   "execution_count": 3,
   "metadata": {},
   "outputs": [
    {
     "name": "stderr",
     "output_type": "stream",
     "text": [
      "WARNING:root:Processing 4,777,470 rows\n",
      "WARNING:root:Vocab Size 49,811\n",
      "WARNING:root:Transforming 4,777,470 rows\n"
     ]
    }
   ],
   "source": [
    "vocab = lm_vocab(max_vocab=50000,\n",
    "                 min_freq=15)\n",
    "\n",
    "# fit the transform on the training data, then transform\n",
    "trn_flat_idx = vocab.fit_transform_flattened(trn_raw)"
   ]
  },
  {
   "cell_type": "markdown",
   "metadata": {},
   "source": [
    "Look at the transformed data"
   ]
  },
  {
   "cell_type": "code",
   "execution_count": 4,
   "metadata": {},
   "outputs": [
    {
     "data": {
      "text/plain": [
       "array([  2, 566,  18,  40,  36,   5, 108,   7, 144, 250])"
      ]
     },
     "execution_count": 4,
     "metadata": {},
     "output_type": "execute_result"
    }
   ],
   "source": [
    "trn_flat_idx[:10]"
   ]
  },
  {
   "cell_type": "code",
   "execution_count": 5,
   "metadata": {},
   "outputs": [
    {
     "data": {
      "text/plain": [
       "['_xbos_',\n",
       " 'render',\n",
       " 'this',\n",
       " 'object',\n",
       " 'as',\n",
       " 'a',\n",
       " 'dict',\n",
       " 'of',\n",
       " 'its',\n",
       " 'fields']"
      ]
     },
     "execution_count": 5,
     "metadata": {},
     "output_type": "execute_result"
    }
   ],
   "source": [
    "[vocab.itos[x] for x in trn_flat_idx[:10]]"
   ]
  },
  {
   "cell_type": "code",
   "execution_count": 6,
   "metadata": {},
   "outputs": [
    {
     "name": "stderr",
     "output_type": "stream",
     "text": [
      "WARNING:root:Transforming 201,155 rows\n"
     ]
    }
   ],
   "source": [
    "# apply transform to validation data\n",
    "val_flat_idx = vocab.transform_flattened(val_raw)"
   ]
  },
  {
   "cell_type": "markdown",
   "metadata": {},
   "source": [
    "Save files for later use"
   ]
  },
  {
   "cell_type": "code",
   "execution_count": 7,
   "metadata": {},
   "outputs": [
    {
     "name": "stderr",
     "output_type": "stream",
     "text": [
      "WARNING:root:Saved vocab to vocab.cls\n"
     ]
    }
   ],
   "source": [
    "vocab.save('vocab.cls')\n",
    "save_file_pickle('trn_flat_idx_list.pkl', trn_flat_idx)\n",
    "save_file_pickle('val_flat_idx_list.pkl', val_flat_idx) "
   ]
  },
  {
   "cell_type": "markdown",
   "metadata": {},
   "source": [
    "## Train Fast.AI Language Model\n",
    "\n",
    "This model will read in files that were created and train a [fast.ai](https://github.com/fastai/fastai/tree/master/fastai) language model.  This model learns to predict the next word in the sentence using fast.ai's implementation of [AWD LSTM](https://github.com/salesforce/awd-lstm-lm).  \n",
    "\n",
    "The goal of training this model is to build a general purpose feature extractor for text that can be used in downstream models.  In this case, we will utilize this model to produce embeddings for function docstrings."
   ]
  },
  {
   "cell_type": "code",
   "execution_count": 8,
   "metadata": {},
   "outputs": [
    {
     "name": "stderr",
     "output_type": "stream",
     "text": [
      "WARNING:root:Loaded vocab of size 49,811\n"
     ]
    }
   ],
   "source": [
    "vocab = load_lm_vocab('vocab.cls')\n",
    "trn_flat_idx = load_file_pickle('trn_flat_idx_list.pkl')\n",
    "val_flat_idx = load_file_pickle('val_flat_idx_list.pkl')"
   ]
  },
  {
   "cell_type": "code",
   "execution_count": 9,
   "metadata": {},
   "outputs": [],
   "source": [
    "from lang_model_utils import train_lang_model"
   ]
  },
  {
   "cell_type": "code",
   "execution_count": 10,
   "metadata": {},
   "outputs": [
    {
     "data": {
      "application/vnd.jupyter.widget-view+json": {
       "model_id": "38615a910b534bee84d8013aab15a520",
       "version_major": 2,
       "version_minor": 0
      },
      "text/plain": [
       "HBox(children=(IntProgress(value=0, description='Epoch', max=6), HTML(value='')))"
      ]
     },
     "metadata": {},
     "output_type": "display_data"
    },
    {
     "name": "stdout",
     "output_type": "stream",
     "text": [
      "epoch      trn_loss   val_loss                            \n",
      "    0      8.827088   6.769413  \n",
      "    1      7.306241   6.550239                            \n",
      "    2      6.801942   6.542536                            \n",
      "    3      6.537727   6.468675                            \n",
      "    4      6.338132   6.417258                            \n",
      "                                                          \r"
     ]
    },
    {
     "name": "stderr",
     "output_type": "stream",
     "text": [
      "WARNING:root:State dict for the best model saved here:\n",
      "/ds/hamel/code_search_data/outputs/lm_model/models/langmodel_best.h5\n"
     ]
    },
    {
     "name": "stdout",
     "output_type": "stream",
     "text": [
      "    5      6.196758   6.397799  \n",
      "\n"
     ]
    }
   ],
   "source": [
    "fastai_learner, lang_model = train_lang_model(model_path = '/ds/hamel/code_search_data/outputs/lm_model',\n",
    "                                            trn_indexed = trn_flat_idx[:50000],\n",
    "                                            val_indexed = val_flat_idx[:50000],\n",
    "                                            vocab_size = vocab.vocab_size,\n",
    "                                            em_sz= 1200,\n",
    "                                            nh= 1200,\n",
    "                                            n_cycle=1,\n",
    "                                            bs = 120)"
   ]
  },
  {
   "cell_type": "code",
   "execution_count": 11,
   "metadata": {},
   "outputs": [
    {
     "data": {
      "image/png": "[encoded data removed]",
      "text/plain": [
       "<Figure size 432x288 with 1 Axes>"
      ]
     },
     "metadata": {},
     "output_type": "display_data"
    }
   ],
   "source": [
    "fastai_learner.sched.plot_loss()"
   ]
  },
  {
   "cell_type": "markdown",
   "metadata": {},
   "source": [
    "Save language model and learner"
   ]
  },
  {
   "cell_type": "code",
   "execution_count": 12,
   "metadata": {},
   "outputs": [],
   "source": [
    "torch.save(lang_model, '/ds/hamel/code_search_data/outputs/lang_model_gpu.torch')\n",
    "fastai_learner.save('/ds/hamel/code_search_data/outputs/lang_model_learner.fai')"
   ]
  },
  {
   "cell_type": "markdown",
   "metadata": {},
   "source": [
    "# Load Model and Encode All Docstrings"
   ]
  },
  {
   "cell_type": "code",
   "execution_count": 14,
   "metadata": {},
   "outputs": [
    {
     "name": "stderr",
     "output_type": "stream",
     "text": [
      "WARNING:root:Processing 4,777,470 rows\n"
     ]
    }
   ],
   "source": [
    "idx_docs_padded = vocab.transfom(trn_raw)"
   ]
  },
  {
   "cell_type": "code",
   "execution_count": 17,
   "metadata": {},
   "outputs": [
    {
     "name": "stderr",
     "output_type": "stream",
     "text": [
      "WARNING:root:Splitting data into 166 chunks.\n"
     ]
    },
    {
     "data": {
      "application/vnd.jupyter.widget-view+json": {
       "model_id": "d4f5e6b38ddb4ec2917c2c75ea62aea8",
       "version_major": 2,
       "version_minor": 0
      },
      "text/plain": [
       "HBox(children=(IntProgress(value=0, max=166), HTML(value='')))"
      ]
     },
     "metadata": {},
     "output_type": "display_data"
    },
    {
     "name": "stdout",
     "output_type": "stream",
     "text": [
      "\n"
     ]
    }
   ],
   "source": [
    "lang_model = torch.load('/ds/hamel/code_search_data/outputs/lang_model_gpu.torch')\n",
    "\n",
    "emb = get_emb_batch(lang_model=lang_model, \n",
    "                    np_array=idx_docs_padded[:30000], \n",
    "                    bs=180)\n",
    "\n",
    "np.save('lang_model_emb.npy', emb)"
   ]
  },
  {
   "cell_type": "code",
   "execution_count": null,
   "metadata": {},
   "outputs": [],
   "source": []
  }
 ],
 "metadata": {
  "kernelspec": {
   "display_name": "Python 3",
   "language": "python",
   "name": "python3"
  },
  "language_info": {
   "codemirror_mode": {
    "name": "ipython",
    "version": 3
   },
   "file_extension": ".py",
   "mimetype": "text/x-python",
   "name": "python",
   "nbconvert_exporter": "python",
   "pygments_lexer": "ipython3",
   "version": "3.6.3"
  }
 },
 "nbformat": 4,
 "nbformat_minor": 2
}
